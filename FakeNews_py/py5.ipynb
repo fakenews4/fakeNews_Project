{
 "cells": [
  {
   "cell_type": "code",
   "execution_count": 1,
   "metadata": {},
   "outputs": [
    {
     "name": "stderr",
     "output_type": "stream",
     "text": [
      "c:\\Python310\\lib\\site-packages\\tqdm\\auto.py:21: TqdmWarning: IProgress not found. Please update jupyter and ipywidgets. See https://ipywidgets.readthedocs.io/en/stable/user_install.html\n",
      "  from .autonotebook import tqdm as notebook_tqdm\n"
     ]
    }
   ],
   "source": [
    "# 필요한 라이브러리 설치\n",
    "# !pip install transformers pandas torch gradio requests beautifulsoup4 matplotlib\n",
    "\n",
    "from transformers import AutoTokenizer, AutoModelForSequenceClassification, pipeline\n",
    "from bs4 import BeautifulSoup\n",
    "import requests\n",
    "import gradio as gr\n",
    "import re\n",
    "import matplotlib.pyplot as plt"
   ]
  },
  {
   "cell_type": "code",
   "execution_count": 2,
   "metadata": {},
   "outputs": [],
   "source": [
    "# 1. 기사 크롤링 함수\n",
    "def extract_article_content(url):\n",
    "    try:\n",
    "        response = requests.get(url, headers={\"User-Agent\": \"Mozilla/5.0\"})\n",
    "        soup = BeautifulSoup(response.text, 'html.parser')\n",
    "\n",
    "        # 뉴스 사이트별 본문 CSS 셀렉터\n",
    "        selectors = [\n",
    "            \"div#dic_area\",  # 네이버 뉴스\n",
    "            \"div.article_body\",  # 특정 뉴스 사이트\n",
    "            \"div#articleBodyContents\",  # 다음 뉴스\n",
    "            \"article\",  # 일반적인 <article> 태그\n",
    "            \"div.content\",  # 기타 사이트\n",
    "        ]\n",
    "\n",
    "        for selector in selectors:\n",
    "            content = soup.select_one(selector)\n",
    "            if content and content.get_text(strip=True):\n",
    "                return content.get_text(separator=\" \", strip=True)\n",
    "        \n",
    "        return \"기사를 읽을 수 없습니다. 링크를 확인하세요.\"\n",
    "    except Exception as e:\n",
    "        return f\"오류 발생: {e}\""
   ]
  },
  {
   "cell_type": "code",
   "execution_count": 3,
   "metadata": {},
   "outputs": [],
   "source": [
    "# 2. 전처리 함수\n",
    "def preprocess_text(text):\n",
    "    text = re.sub(r'\\s+', ' ', text)  # 연속된 공백 제거\n",
    "    text = re.sub(r'[^\\w\\s]', '', text)  # 특수문자 제거\n",
    "    return text.strip()[:512]  # 길이를 512로 제한"
   ]
  },
  {
   "cell_type": "code",
   "execution_count": 4,
   "metadata": {},
   "outputs": [],
   "source": [
    "# 3. 모델 초기화 함수\n",
    "def initialize_models():\n",
    "    classifier_name = \"bert-base-multilingual-cased\"\n",
    "    summarizer_name = \"paust/pko-t5-base\"\n",
    "\n",
    "    # 분류 모델 초기화\n",
    "    tokenizer = AutoTokenizer.from_pretrained(classifier_name)\n",
    "    model = AutoModelForSequenceClassification.from_pretrained(classifier_name, num_labels=2)\n",
    "    classifier = pipeline(\"text-classification\", model=model, tokenizer=tokenizer)\n",
    "\n",
    "    # 요약 모델 초기화\n",
    "    summarizer = pipeline(\"summarization\", model=summarizer_name, tokenizer=summarizer_name)\n",
    "    \n",
    "    return classifier, summarizer"
   ]
  },
  {
   "cell_type": "code",
   "execution_count": 5,
   "metadata": {},
   "outputs": [],
   "source": [
    "# 4. 기사 분석 함수\n",
    "def analyze_article(url):\n",
    "    article_content = extract_article_content(url)\n",
    "    if \"오류 발생\" in article_content or \"기사를 읽을 수 없습니다\" in article_content:\n",
    "        return article_content, \"분류 불가\", \"요약 불가\", \"분석 불가\", None\n",
    "\n",
    "    article_content_clean = preprocess_text(article_content)\n",
    "    classifier, summarizer = initialize_models()\n",
    "\n",
    "    # 가짜 뉴스 판별\n",
    "    try:\n",
    "        classification_result = classifier(article_content_clean, return_all_scores=True)[0]\n",
    "        label_scores = {res['label']: res['score'] for res in classification_result}\n",
    "        classification = \"진짜 뉴스\" if label_scores.get(\"LABEL_0\", 0) > label_scores.get(\"LABEL_1\", 0) else \"가짜 뉴스\"\n",
    "        \n",
    "        # 판단 이유 생성\n",
    "        fake_score = label_scores.get(\"LABEL_1\", 0)\n",
    "        true_score = label_scores.get(\"LABEL_0\", 0)\n",
    "        reason = (f\"가짜 뉴스 확률: {fake_score:.2f}, \"\n",
    "                  f\"진짜 뉴스 확률: {true_score:.2f}. \"\n",
    "                  f\"모델의 신뢰도 점수를 기반으로 판단되었습니다.\")\n",
    "        \n",
    "        # 시각화를 위한 데이터 준비\n",
    "        scores = {\"진짜 뉴스\": true_score, \"가짜 뉴스\": fake_score}\n",
    "    except Exception as e:\n",
    "        classification = f\"분류 실패: {e}\"\n",
    "        reason = \"분류에 실패하여 이유를 제공할 수 없습니다.\"\n",
    "        scores = None\n",
    "\n",
    "    # 기사 요약\n",
    "    try:\n",
    "        summary_result = summarizer(article_content_clean, max_length=150, min_length=50, do_sample=False)\n",
    "        summary = summary_result[0][\"summary_text\"]\n",
    "    except Exception as e:\n",
    "        summary = f\"요약 실패: {e}\"\n",
    "\n",
    "    return article_content, classification, summary, reason, scores"
   ]
  },
  {
   "cell_type": "code",
   "execution_count": 6,
   "metadata": {},
   "outputs": [],
   "source": [
    "# 5. 신뢰도 시각화 함수\n",
    "def plot_scores(scores):\n",
    "    if scores is None:\n",
    "        return None\n",
    "    labels = scores.keys()\n",
    "    values = scores.values()\n",
    "\n",
    "    plt.figure(figsize=(6, 4))\n",
    "    plt.bar(labels, values, color=[\"green\", \"red\"])\n",
    "    plt.title(\"진짜 뉴스 vs 가짜 뉴스 신뢰도\")\n",
    "    plt.xlabel(\"분류\")\n",
    "    plt.ylabel(\"신뢰도\")\n",
    "    plt.ylim(0, 1)\n",
    "    plt.tight_layout()\n",
    "\n",
    "    # 이미지로 저장\n",
    "    plt_path = \"score_plot.png\"\n",
    "    plt.savefig(plt_path)\n",
    "    plt.close()\n",
    "    return plt_path"
   ]
  },
  {
   "cell_type": "code",
   "execution_count": 7,
   "metadata": {},
   "outputs": [],
   "source": [
    "# 6. Gradio 인터페이스 정의\n",
    "def gradio_interface(url):\n",
    "    article_content, classification, summary, reason, scores = analyze_article(url)\n",
    "    plot_path = plot_scores(scores)\n",
    "    return article_content, classification, summary, reason, plot_path\n",
    "\n",
    "# Gradio 설정\n",
    "interface = gr.Interface(\n",
    "    fn=gradio_interface,\n",
    "    inputs=gr.Textbox(label=\"기사 링크\", placeholder=\"뉴스 링크를 입력하세요\"),\n",
    "    outputs=[\n",
    "        gr.Textbox(label=\"기사 본문\"),\n",
    "        gr.Textbox(label=\"가짜 뉴스 여부\"),\n",
    "        gr.Textbox(label=\"요약된 내용\"),\n",
    "        gr.Textbox(label=\"판단 이유\"),\n",
    "        gr.Image(label=\"신뢰도 시각화\")\n",
    "    ],\n",
    "    title=\"가짜 뉴스 탐지 및 요약기\",\n",
    "    description=\"기사 링크를 입력하면 본문을 크롤링하고, 요약 및 가짜 뉴스 여부와 신뢰도를 시각화하여 제공합니다.\"\n",
    ")"
   ]
  },
  {
   "cell_type": "code",
   "execution_count": 8,
   "metadata": {},
   "outputs": [
    {
     "name": "stdout",
     "output_type": "stream",
     "text": [
      "* Running on local URL:  http://127.0.0.1:7867\n",
      "* Running on public URL: https://68d1f928e618eaf30c.gradio.live\n",
      "\n",
      "This share link expires in 72 hours. For free permanent hosting and GPU upgrades, run `gradio deploy` from the terminal in the working directory to deploy to Hugging Face Spaces (https://huggingface.co/spaces)\n"
     ]
    },
    {
     "data": {
      "text/html": [
       "<div><iframe src=\"https://68d1f928e618eaf30c.gradio.live\" width=\"100%\" height=\"500\" allow=\"autoplay; camera; microphone; clipboard-read; clipboard-write;\" frameborder=\"0\" allowfullscreen></iframe></div>"
      ],
      "text/plain": [
       "<IPython.core.display.HTML object>"
      ]
     },
     "metadata": {},
     "output_type": "display_data"
    },
    {
     "name": "stderr",
     "output_type": "stream",
     "text": [
      "Some weights of BertForSequenceClassification were not initialized from the model checkpoint at bert-base-multilingual-cased and are newly initialized: ['classifier.bias', 'classifier.weight']\n",
      "You should probably TRAIN this model on a down-stream task to be able to use it for predictions and inference.\n",
      "Device set to use cpu\n",
      "Device set to use cpu\n",
      "c:\\Python310\\lib\\site-packages\\transformers\\pipelines\\text_classification.py:106: UserWarning: `return_all_scores` is now deprecated,  if want a similar functionality use `top_k=None` instead of `return_all_scores=True` or `top_k=1` instead of `return_all_scores=False`.\n",
      "  warnings.warn(\n",
      "C:\\Users\\human-24\\AppData\\Local\\Temp\\ipykernel_5944\\526678403.py:14: UserWarning: Glyph 51652 (\\N{HANGUL SYLLABLE JIN}) missing from font(s) DejaVu Sans.\n",
      "  plt.tight_layout()\n",
      "C:\\Users\\human-24\\AppData\\Local\\Temp\\ipykernel_5944\\526678403.py:14: UserWarning: Glyph 51676 (\\N{HANGUL SYLLABLE JJA}) missing from font(s) DejaVu Sans.\n",
      "  plt.tight_layout()\n",
      "C:\\Users\\human-24\\AppData\\Local\\Temp\\ipykernel_5944\\526678403.py:14: UserWarning: Glyph 45684 (\\N{HANGUL SYLLABLE NYU}) missing from font(s) DejaVu Sans.\n",
      "  plt.tight_layout()\n",
      "C:\\Users\\human-24\\AppData\\Local\\Temp\\ipykernel_5944\\526678403.py:14: UserWarning: Glyph 49828 (\\N{HANGUL SYLLABLE SEU}) missing from font(s) DejaVu Sans.\n",
      "  plt.tight_layout()\n",
      "C:\\Users\\human-24\\AppData\\Local\\Temp\\ipykernel_5944\\526678403.py:14: UserWarning: Glyph 44032 (\\N{HANGUL SYLLABLE GA}) missing from font(s) DejaVu Sans.\n",
      "  plt.tight_layout()\n",
      "C:\\Users\\human-24\\AppData\\Local\\Temp\\ipykernel_5944\\526678403.py:14: UserWarning: Glyph 48516 (\\N{HANGUL SYLLABLE BUN}) missing from font(s) DejaVu Sans.\n",
      "  plt.tight_layout()\n",
      "C:\\Users\\human-24\\AppData\\Local\\Temp\\ipykernel_5944\\526678403.py:14: UserWarning: Glyph 47448 (\\N{HANGUL SYLLABLE RYU}) missing from font(s) DejaVu Sans.\n",
      "  plt.tight_layout()\n",
      "C:\\Users\\human-24\\AppData\\Local\\Temp\\ipykernel_5944\\526678403.py:14: UserWarning: Glyph 49888 (\\N{HANGUL SYLLABLE SIN}) missing from font(s) DejaVu Sans.\n",
      "  plt.tight_layout()\n",
      "C:\\Users\\human-24\\AppData\\Local\\Temp\\ipykernel_5944\\526678403.py:14: UserWarning: Glyph 47280 (\\N{HANGUL SYLLABLE ROE}) missing from font(s) DejaVu Sans.\n",
      "  plt.tight_layout()\n",
      "C:\\Users\\human-24\\AppData\\Local\\Temp\\ipykernel_5944\\526678403.py:14: UserWarning: Glyph 46020 (\\N{HANGUL SYLLABLE DO}) missing from font(s) DejaVu Sans.\n",
      "  plt.tight_layout()\n",
      "C:\\Users\\human-24\\AppData\\Local\\Temp\\ipykernel_5944\\526678403.py:18: UserWarning: Glyph 51652 (\\N{HANGUL SYLLABLE JIN}) missing from font(s) DejaVu Sans.\n",
      "  plt.savefig(plt_path)\n",
      "C:\\Users\\human-24\\AppData\\Local\\Temp\\ipykernel_5944\\526678403.py:18: UserWarning: Glyph 51676 (\\N{HANGUL SYLLABLE JJA}) missing from font(s) DejaVu Sans.\n",
      "  plt.savefig(plt_path)\n",
      "C:\\Users\\human-24\\AppData\\Local\\Temp\\ipykernel_5944\\526678403.py:18: UserWarning: Glyph 45684 (\\N{HANGUL SYLLABLE NYU}) missing from font(s) DejaVu Sans.\n",
      "  plt.savefig(plt_path)\n",
      "C:\\Users\\human-24\\AppData\\Local\\Temp\\ipykernel_5944\\526678403.py:18: UserWarning: Glyph 49828 (\\N{HANGUL SYLLABLE SEU}) missing from font(s) DejaVu Sans.\n",
      "  plt.savefig(plt_path)\n",
      "C:\\Users\\human-24\\AppData\\Local\\Temp\\ipykernel_5944\\526678403.py:18: UserWarning: Glyph 44032 (\\N{HANGUL SYLLABLE GA}) missing from font(s) DejaVu Sans.\n",
      "  plt.savefig(plt_path)\n",
      "C:\\Users\\human-24\\AppData\\Local\\Temp\\ipykernel_5944\\526678403.py:18: UserWarning: Glyph 48516 (\\N{HANGUL SYLLABLE BUN}) missing from font(s) DejaVu Sans.\n",
      "  plt.savefig(plt_path)\n",
      "C:\\Users\\human-24\\AppData\\Local\\Temp\\ipykernel_5944\\526678403.py:18: UserWarning: Glyph 47448 (\\N{HANGUL SYLLABLE RYU}) missing from font(s) DejaVu Sans.\n",
      "  plt.savefig(plt_path)\n",
      "C:\\Users\\human-24\\AppData\\Local\\Temp\\ipykernel_5944\\526678403.py:18: UserWarning: Glyph 49888 (\\N{HANGUL SYLLABLE SIN}) missing from font(s) DejaVu Sans.\n",
      "  plt.savefig(plt_path)\n",
      "C:\\Users\\human-24\\AppData\\Local\\Temp\\ipykernel_5944\\526678403.py:18: UserWarning: Glyph 47280 (\\N{HANGUL SYLLABLE ROE}) missing from font(s) DejaVu Sans.\n",
      "  plt.savefig(plt_path)\n",
      "C:\\Users\\human-24\\AppData\\Local\\Temp\\ipykernel_5944\\526678403.py:18: UserWarning: Glyph 46020 (\\N{HANGUL SYLLABLE DO}) missing from font(s) DejaVu Sans.\n",
      "  plt.savefig(plt_path)\n"
     ]
    }
   ],
   "source": [
    "# 실행\n",
    "if __name__ == \"__main__\":\n",
    "    interface.launch(share=True)"
   ]
  }
 ],
 "metadata": {
  "kernelspec": {
   "display_name": "Python 3",
   "language": "python",
   "name": "python3"
  },
  "language_info": {
   "codemirror_mode": {
    "name": "ipython",
    "version": 3
   },
   "file_extension": ".py",
   "mimetype": "text/x-python",
   "name": "python",
   "nbconvert_exporter": "python",
   "pygments_lexer": "ipython3",
   "version": "3.10.6"
  }
 },
 "nbformat": 4,
 "nbformat_minor": 2
}
