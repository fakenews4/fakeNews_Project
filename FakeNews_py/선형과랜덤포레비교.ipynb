{
 "cells": [
  {
   "cell_type": "code",
   "execution_count": 1,
   "metadata": {},
   "outputs": [],
   "source": [
    "import pandas as pd\n",
    "from sklearn.model_selection import train_test_split, cross_val_score\n",
    "from sklearn.feature_extraction.text import TfidfVectorizer\n",
    "from sklearn.linear_model import LogisticRegression\n",
    "from sklearn.ensemble import RandomForestClassifier\n",
    "from sklearn.metrics import classification_report, accuracy_score"
   ]
  },
  {
   "cell_type": "code",
   "execution_count": 2,
   "metadata": {},
   "outputs": [],
   "source": [
    "# 데이터 로드\n",
    "data = pd.read_csv(\"C:/py/fakeNEWs_project/News_Dataset_Half.csv\")\n",
    "\n",
    "# 데이터 정제 (결측값 처리, 텍스트 전처리 등)\n",
    "data = data.dropna(subset=['Content', 'Label'])\n",
    "data['Content'] = data['Content'].str.lower().str.replace(r'[^\\w\\s]', '', regex=True)\n",
    "\n",
    "# 데이터 분리\n",
    "X = data['Content']\n",
    "y = data['Label']\n",
    "X_train, X_test, y_train, y_test = train_test_split(X, y, test_size=0.2, random_state=42, stratify=y)\n",
    "\n",
    "# TF-IDF 벡터화\n",
    "vectorizer = TfidfVectorizer(max_features=8000)\n",
    "X_train_tfidf = vectorizer.fit_transform(X_train)\n",
    "X_test_tfidf = vectorizer.transform(X_test)"
   ]
  },
  {
   "cell_type": "code",
   "execution_count": 3,
   "metadata": {},
   "outputs": [
    {
     "name": "stdout",
     "output_type": "stream",
     "text": [
      "Logistic Regression Accuracy: 0.9828230022404779\n",
      "Logistic Regression Report:\n",
      "               precision    recall  f1-score   support\n",
      "\n",
      "           0       1.00      0.95      0.97       424\n",
      "           1       0.98      1.00      0.99       915\n",
      "\n",
      "    accuracy                           0.98      1339\n",
      "   macro avg       0.99      0.97      0.98      1339\n",
      "weighted avg       0.98      0.98      0.98      1339\n",
      "\n",
      "Random Forest Accuracy: 0.8932038834951457\n",
      "Random Forest Report:\n",
      "               precision    recall  f1-score   support\n",
      "\n",
      "           0       1.00      0.66      0.80       424\n",
      "           1       0.86      1.00      0.93       915\n",
      "\n",
      "    accuracy                           0.89      1339\n",
      "   macro avg       0.93      0.83      0.86      1339\n",
      "weighted avg       0.91      0.89      0.89      1339\n",
      "\n"
     ]
    }
   ],
   "source": [
    "# Logistic Regression 모델\n",
    "log_reg = LogisticRegression(random_state=42, max_iter=1000)\n",
    "log_reg.fit(X_train_tfidf, y_train)\n",
    "y_pred_log = log_reg.predict(X_test_tfidf)\n",
    "log_accuracy = accuracy_score(y_test, y_pred_log)\n",
    "print(\"Logistic Regression Accuracy:\", log_accuracy)\n",
    "print(\"Logistic Regression Report:\\n\", classification_report(y_test, y_pred_log))\n",
    "\n",
    "# Random Forest 모델\n",
    "rf_clf = RandomForestClassifier(n_estimators=100, max_depth=10, random_state=42)\n",
    "rf_clf.fit(X_train_tfidf, y_train)\n",
    "y_pred_rf = rf_clf.predict(X_test_tfidf)\n",
    "rf_accuracy = accuracy_score(y_test, y_pred_rf)\n",
    "print(\"Random Forest Accuracy:\", rf_accuracy)\n",
    "print(\"Random Forest Report:\\n\", classification_report(y_test, y_pred_rf))"
   ]
  },
  {
   "cell_type": "code",
   "execution_count": 4,
   "metadata": {},
   "outputs": [
    {
     "name": "stdout",
     "output_type": "stream",
     "text": [
      "\n",
      "Model Comparison:\n",
      "Logistic Regression Accuracy: 0.9828230022404779\n",
      "Random Forest Accuracy: 0.8932038834951457\n"
     ]
    }
   ],
   "source": [
    "# 모델 비교\n",
    "print(\"\\nModel Comparison:\")\n",
    "print(f\"Logistic Regression Accuracy: {log_accuracy}\")\n",
    "print(f\"Random Forest Accuracy: {rf_accuracy}\")"
   ]
  }
 ],
 "metadata": {
  "kernelspec": {
   "display_name": "Python 3",
   "language": "python",
   "name": "python3"
  },
  "language_info": {
   "codemirror_mode": {
    "name": "ipython",
    "version": 3
   },
   "file_extension": ".py",
   "mimetype": "text/x-python",
   "name": "python",
   "nbconvert_exporter": "python",
   "pygments_lexer": "ipython3",
   "version": "3.10.6"
  }
 },
 "nbformat": 4,
 "nbformat_minor": 2
}
