{
 "cells": [
  {
   "cell_type": "code",
   "execution_count": 8,
   "metadata": {},
   "outputs": [],
   "source": [
    "# 필요한 라이브러리 설치\n",
    "# !pip install transformers pandas torch gradio requests beautifulsoup4\n",
    "\n",
    "from transformers import AutoTokenizer, AutoModelForSequenceClassification, pipeline\n",
    "from bs4 import BeautifulSoup\n",
    "import requests\n",
    "import gradio as gr\n",
    "import re"
   ]
  },
  {
   "cell_type": "code",
   "execution_count": 9,
   "metadata": {},
   "outputs": [],
   "source": [
    "# 1. 기사 크롤링 함수\n",
    "def extract_article_content(url):\n",
    "    \"\"\"\n",
    "    주어진 URL에서 기사 본문을 추출.\n",
    "    \"\"\"\n",
    "    try:\n",
    "        response = requests.get(url, headers={\"User-Agent\": \"Mozilla/5.0\"})\n",
    "        soup = BeautifulSoup(response.text, 'html.parser')\n",
    "\n",
    "        # 뉴스 사이트별 본문 CSS 셀렉터\n",
    "        selectors = [\n",
    "            \"div#dic_area\",  # 네이버 뉴스\n",
    "            \"div.article_body\",  # 특정 뉴스 사이트\n",
    "            \"div#articleBodyContents\",  # 다음 뉴스\n",
    "            \"article\",  # 일반적인 <article> 태그\n",
    "            \"div.content\",  # 기타 사이트\n",
    "        ]\n",
    "\n",
    "        # 본문 추출\n",
    "        for selector in selectors:\n",
    "            content = soup.select_one(selector)\n",
    "            if content and content.get_text(strip=True):\n",
    "                return content.get_text(separator=\" \", strip=True)\n",
    "        \n",
    "        return \"기사를 읽을 수 없습니다. 링크를 확인하세요.\"\n",
    "    except Exception as e:\n",
    "        return f\"오류 발생: {e}\""
   ]
  },
  {
   "cell_type": "code",
   "execution_count": 10,
   "metadata": {},
   "outputs": [],
   "source": [
    "# 2. 전처리 함수\n",
    "def preprocess_text(text):\n",
    "    \"\"\"\n",
    "    텍스트를 전처리하여 모델 입력으로 적합하게 변환.\n",
    "    \"\"\"\n",
    "    text = re.sub(r'\\s+', ' ', text)  # 연속된 공백 제거\n",
    "    text = re.sub(r'[^\\w\\s]', '', text)  # 특수문자 제거\n",
    "    return text.strip()[:512]  # 512 토큰 제한"
   ]
  },
  {
   "cell_type": "code",
   "execution_count": 11,
   "metadata": {},
   "outputs": [],
   "source": [
    "# 3. 모델 초기화 함수\n",
    "def initialize_models():\n",
    "    \"\"\"\n",
    "    분류기와 요약 모델 초기화.\n",
    "    \"\"\"\n",
    "    # Hugging Face 한국어 분류 모델 (NSMC 데이터 기반)\n",
    "    model_name = \"beomi/kcbert-base\"  # 예: 감정 분류 모델\n",
    "    tokenizer = AutoTokenizer.from_pretrained(model_name)\n",
    "    model = AutoModelForSequenceClassification.from_pretrained(model_name)\n",
    "    classifier = pipeline(\"text-classification\", model=model, tokenizer=tokenizer)\n",
    "\n",
    "    # 한국어 요약 모델\n",
    "    summarizer = pipeline(\"summarization\", model=\"paust/pko-t5-base\", tokenizer=\"paust/pko-t5-base\")\n",
    "    \n",
    "    return classifier, summarizer"
   ]
  },
  {
   "cell_type": "code",
   "execution_count": 12,
   "metadata": {},
   "outputs": [],
   "source": [
    "# 4. 기사 분석 함수\n",
    "def analyze_article(url):\n",
    "    \"\"\"\n",
    "    URL에서 기사를 크롤링하고 요약 및 분류.\n",
    "    \"\"\"\n",
    "    # 기사 본문 추출\n",
    "    article_content = extract_article_content(url)\n",
    "    if \"오류 발생\" in article_content or \"기사를 읽을 수 없습니다\" in article_content:\n",
    "        return article_content, \"분류 불가\", \"요약 불가\"\n",
    "    \n",
    "    # 전처리\n",
    "    article_content_clean = preprocess_text(article_content)\n",
    "\n",
    "    # 모델 초기화\n",
    "    classifier, summarizer = initialize_models()\n",
    "\n",
    "    # 가짜 뉴스 판별\n",
    "    try:\n",
    "        classification_result = classifier(article_content_clean)[0][\"label\"]\n",
    "        classification = \"진짜 뉴스\" if classification_result == \"LABEL_0\" else \"가짜 뉴스\"\n",
    "    except Exception as e:\n",
    "        classification = f\"분류 실패: {e}\"\n",
    "\n",
    "    # 기사 요약\n",
    "    try:\n",
    "        summary_result = summarizer(article_content_clean, max_length=50, min_length=10, do_sample=False)\n",
    "        summary = summary_result[0][\"summary_text\"]\n",
    "    except Exception as e:\n",
    "        summary = f\"요약 실패: {e}\"\n",
    "\n",
    "    return article_content, classification, summary"
   ]
  },
  {
   "cell_type": "code",
   "execution_count": 13,
   "metadata": {},
   "outputs": [],
   "source": [
    "# 5. Gradio 인터페이스 정의\n",
    "def gradio_interface(url):\n",
    "    article_content, classification, summary = analyze_article(url)\n",
    "    return article_content, classification, summary\n",
    "\n",
    "# Gradio 설정\n",
    "interface = gr.Interface(\n",
    "    fn=gradio_interface,\n",
    "    inputs=gr.Textbox(label=\"기사 링크\", placeholder=\"뉴스 링크를 입력하세요\"),\n",
    "    outputs=[\n",
    "        gr.Textbox(label=\"기사 본문\"),\n",
    "        gr.Textbox(label=\"가짜 뉴스 여부\"),\n",
    "        gr.Textbox(label=\"요약된 내용\")\n",
    "    ],\n",
    "    title=\"가짜 뉴스 탐지 및 요약기\",\n",
    "    description=\"기사 링크를 입력하면 본문을 크롤링하고, 요약 및 가짜 뉴스 여부를 판단합니다.\"\n",
    ")\n"
   ]
  },
  {
   "cell_type": "code",
   "execution_count": 14,
   "metadata": {},
   "outputs": [
    {
     "name": "stdout",
     "output_type": "stream",
     "text": [
      "* Running on local URL:  http://127.0.0.1:7864\n",
      "* Running on public URL: https://5c4bf886c5dfd23ac4.gradio.live\n",
      "\n",
      "This share link expires in 72 hours. For free permanent hosting and GPU upgrades, run `gradio deploy` from the terminal in the working directory to deploy to Hugging Face Spaces (https://huggingface.co/spaces)\n"
     ]
    },
    {
     "data": {
      "text/html": [
       "<div><iframe src=\"https://5c4bf886c5dfd23ac4.gradio.live\" width=\"100%\" height=\"500\" allow=\"autoplay; camera; microphone; clipboard-read; clipboard-write;\" frameborder=\"0\" allowfullscreen></iframe></div>"
      ],
      "text/plain": [
       "<IPython.core.display.HTML object>"
      ]
     },
     "metadata": {},
     "output_type": "display_data"
    },
    {
     "name": "stderr",
     "output_type": "stream",
     "text": [
      "c:\\Python310\\lib\\site-packages\\huggingface_hub\\file_download.py:140: UserWarning: `huggingface_hub` cache-system uses symlinks by default to efficiently store duplicated files but your machine does not support them in C:\\Users\\human-24\\.cache\\huggingface\\hub\\models--beomi--kcbert-base. Caching files will still work but in a degraded version that might require more space on your disk. This warning can be disabled by setting the `HF_HUB_DISABLE_SYMLINKS_WARNING` environment variable. For more details, see https://huggingface.co/docs/huggingface_hub/how-to-cache#limitations.\n",
      "To support symlinks on Windows, you either need to activate Developer Mode or to run Python as an administrator. In order to activate developer mode, see this article: https://docs.microsoft.com/en-us/windows/apps/get-started/enable-your-device-for-development\n",
      "  warnings.warn(message)\n",
      "Some weights of BertForSequenceClassification were not initialized from the model checkpoint at beomi/kcbert-base and are newly initialized: ['classifier.bias', 'classifier.weight']\n",
      "You should probably TRAIN this model on a down-stream task to be able to use it for predictions and inference.\n",
      "Device set to use cpu\n",
      "c:\\Python310\\lib\\site-packages\\huggingface_hub\\file_download.py:140: UserWarning: `huggingface_hub` cache-system uses symlinks by default to efficiently store duplicated files but your machine does not support them in C:\\Users\\human-24\\.cache\\huggingface\\hub\\models--paust--pko-t5-base. Caching files will still work but in a degraded version that might require more space on your disk. This warning can be disabled by setting the `HF_HUB_DISABLE_SYMLINKS_WARNING` environment variable. For more details, see https://huggingface.co/docs/huggingface_hub/how-to-cache#limitations.\n",
      "To support symlinks on Windows, you either need to activate Developer Mode or to run Python as an administrator. In order to activate developer mode, see this article: https://docs.microsoft.com/en-us/windows/apps/get-started/enable-your-device-for-development\n",
      "  warnings.warn(message)\n",
      "Device set to use cpu\n"
     ]
    }
   ],
   "source": [
    "# 실행\n",
    "if __name__ == \"__main__\":\n",
    "    interface.launch(share=True)"
   ]
  },
  {
   "cell_type": "code",
   "execution_count": null,
   "metadata": {},
   "outputs": [],
   "source": []
  }
 ],
 "metadata": {
  "kernelspec": {
   "display_name": "Python 3",
   "language": "python",
   "name": "python3"
  },
  "language_info": {
   "codemirror_mode": {
    "name": "ipython",
    "version": 3
   },
   "file_extension": ".py",
   "mimetype": "text/x-python",
   "name": "python",
   "nbconvert_exporter": "python",
   "pygments_lexer": "ipython3",
   "version": "3.10.6"
  }
 },
 "nbformat": 4,
 "nbformat_minor": 2
}
