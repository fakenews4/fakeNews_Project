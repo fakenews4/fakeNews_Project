{
 "cells": [
  {
   "cell_type": "code",
   "execution_count": null,
   "metadata": {},
   "outputs": [],
   "source": [
    "# KoNLPy와 기타 라이브러리 설치\n",
    "# pip install numpy pandas scikit-learn konlpy\n",
    "# 필요한 라이브러리 설치 (Colab 환경에서 실행 시)\n",
    "# pip install numpy pandas scikit-learn nltk\n",
    "# pip install konlpy"
   ]
  },
  {
   "cell_type": "code",
   "execution_count": 1,
   "metadata": {},
   "outputs": [],
   "source": [
    "import pandas as pd\n",
    "from sklearn.model_selection import train_test_split\n",
    "from sklearn.feature_extraction.text import TfidfVectorizer\n",
    "from sklearn.linear_model import LogisticRegression\n",
    "from sklearn.metrics import accuracy_score, classification_report\n",
    "from konlpy.tag import Okt"
   ]
  },
  {
   "cell_type": "code",
   "execution_count": 2,
   "metadata": {},
   "outputs": [],
   "source": [
    "# 샘플 데이터 생성(한국어 데이터)\n",
    "data = {\n",
    "    \"text\": [\n",
    "        \"속보! 이 기사는 가짜 뉴스입니다.\",\n",
    "        \"과학자들이 감기 치료법을 발견했다고 발표했습니다.\",\n",
    "        \"연예인 삶에 대한 충격적인 폭로!\",\n",
    "        \"정부는 모든 부패 혐의를 부인했습니다.\",\n",
    "        \"재생 에너지 기술에서 새로운 돌파구가 있었습니다.\"\n",
    "    ],\n",
    "    \"label\" : [\"fake\", \"real\", \"fake\", \"real\", \"real\"]\n",
    "}\n",
    "\n",
    "df = pd.DataFrame(data)"
   ]
  },
  {
   "cell_type": "code",
   "execution_count": 3,
   "metadata": {},
   "outputs": [
    {
     "ename": "",
     "evalue": "",
     "output_type": "error",
     "traceback": [
      "\u001b[1;31mThe Kernel crashed while executing code in the current cell or a previous cell. \n",
      "\u001b[1;31mPlease review the code in the cell(s) to identify a possible cause of the failure. \n",
      "\u001b[1;31mClick <a href='https://aka.ms/vscodeJupyterKernelCrash'>here</a> for more info. \n",
      "\u001b[1;31mView Jupyter <a href='command:jupyter.viewOutput'>log</a> for further details."
     ]
    }
   ],
   "source": [
    "# 한국어 전처리 함수\n",
    "okt = Okt()"
   ]
  },
  {
   "cell_type": "code",
   "execution_count": null,
   "metadata": {},
   "outputs": [],
   "source": []
  }
 ],
 "metadata": {
  "kernelspec": {
   "display_name": "Python 3",
   "language": "python",
   "name": "python3"
  },
  "language_info": {
   "codemirror_mode": {
    "name": "ipython",
    "version": 3
   },
   "file_extension": ".py",
   "mimetype": "text/x-python",
   "name": "python",
   "nbconvert_exporter": "python",
   "pygments_lexer": "ipython3",
   "version": "3.10.6"
  }
 },
 "nbformat": 4,
 "nbformat_minor": 2
}
